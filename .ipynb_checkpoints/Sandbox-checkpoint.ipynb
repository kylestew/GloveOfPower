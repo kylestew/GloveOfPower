{
 "cells": [
  {
   "cell_type": "code",
   "execution_count": 1,
   "metadata": {
    "collapsed": false
   },
   "outputs": [],
   "source": [
    "import io\n",
    "import sys\n",
    "import serial\n",
    "import random\n",
    "from time import sleep"
   ]
  },
  {
   "cell_type": "code",
   "execution_count": 2,
   "metadata": {
    "collapsed": false
   },
   "outputs": [
    {
     "name": "stdout",
     "output_type": "stream",
     "text": [
      "\u001b[34m\u001b[43m/dev/cu.Bluetooth-Incoming-Port\u001b[m\u001b[m  \u001b[34m\u001b[43m/dev/tty.Bluetooth-Incoming-Port\u001b[m\u001b[m\r\n",
      "\u001b[34m\u001b[43m/dev/cu.usbmodem1411\u001b[m\u001b[m             \u001b[34m\u001b[43m/dev/tty.usbmodem1411\u001b[m\u001b[m\r\n"
     ]
    }
   ],
   "source": [
    "!ls /dev/{tty,cu}.*"
   ]
  },
  {
   "cell_type": "code",
   "execution_count": null,
   "metadata": {
    "collapsed": true
   },
   "outputs": [],
   "source": [
    "# This will automatically open the serial port (no need for ser.open)\n",
    "ser = serial.Serial(port=sys.argv[1], baudrate=9600, rtscts=True)\n",
    "serio = io.TextIOWrapper(io.BufferedRWPair(ser, ser, 1),\n",
    "                             newline='\\r\\n',\n",
    "                             line_buffering=True)"
   ]
  }
 ],
 "metadata": {
  "anaconda-cloud": {},
  "kernelspec": {
   "display_name": "Python [conda root]",
   "language": "python",
   "name": "conda-root-py"
  },
  "language_info": {
   "codemirror_mode": {
    "name": "ipython",
    "version": 3
   },
   "file_extension": ".py",
   "mimetype": "text/x-python",
   "name": "python",
   "nbconvert_exporter": "python",
   "pygments_lexer": "ipython3",
   "version": "3.5.2"
  }
 },
 "nbformat": 4,
 "nbformat_minor": 2
}
